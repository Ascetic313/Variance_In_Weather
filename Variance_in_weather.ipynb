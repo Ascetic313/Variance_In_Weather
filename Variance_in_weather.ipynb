{
 "cells": [
  {
   "cell_type": "code",
   "execution_count": null,
   "id": "eb826415",
   "metadata": {},
   "outputs": [],
   "source": [
    "import codecademylib3_seaborn\n",
    "import pandas as pd\n",
    "import numpy as np\n",
    "from weather_data import london_data\n",
    "\n",
    "#Checking the dataset:\n",
    "print(london_data.head())\n",
    "print(len(london_data))\n",
    "\n",
    "#Checking Temperature Column:\n",
    "one_column = print(london_data.TemperatureC)\n",
    "\n",
    "#Descriptive statistics:\n",
    "average_temp = london_data.TemperatureC.mean()\n",
    "print(average_temp)\n",
    "temperature_var = london_data.TemperatureC.var()\n",
    "print(temperature_var)\n",
    "temperature_standard_deviation = london_data.TemperatureC.std()\n",
    "print(temperature_standard_deviation)\n",
    "print(london_data.head())\n",
    "\n",
    "#Subselection:\n",
    "june = london_data.loc[london_data[\"month\"] == 6][\"TemperatureC\"]\n",
    "july = london_data.loc[london_data[\"month\"] == 7][\"TemperatureC\"]\n",
    "print(june.mean())\n",
    "print(july.mean())\n",
    "print(june.std())\n",
    "print(july.std())\n",
    "\n",
    "#Checking Descriptives for every month:\n",
    "for i in range(1, 13):\n",
    "  month = london_data.loc[london_data[\"month\"] == i][\"TemperatureC\"]\n",
    "  print(\"The mean temperature in month \"+str(i) +\" is \"+ str(np.mean(month)))\n",
    "  print(\"The standard deviation of temperature in month \"+str(i) +\" is \"+ str(np.std(month)) +\"\\n\")"
   ]
  }
 ],
 "metadata": {
  "kernelspec": {
   "display_name": "Python 3",
   "language": "python",
   "name": "python3"
  },
  "language_info": {
   "codemirror_mode": {
    "name": "ipython",
    "version": 3
   },
   "file_extension": ".py",
   "mimetype": "text/x-python",
   "name": "python",
   "nbconvert_exporter": "python",
   "pygments_lexer": "ipython3",
   "version": "3.8.8"
  }
 },
 "nbformat": 4,
 "nbformat_minor": 5
}
